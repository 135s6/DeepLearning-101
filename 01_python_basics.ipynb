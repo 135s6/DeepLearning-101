{
  "nbformat": 4,
  "nbformat_minor": 0,
  "metadata": {
    "colab": {
      "name": "01-python-basics.ipynb",
      "provenance": [],
      "authorship_tag": "ABX9TyOCN/pBtH+1Ktbsqe+wL6Y4",
      "include_colab_link": true
    },
    "kernelspec": {
      "name": "python3",
      "display_name": "Python 3"
    }
  },
  "cells": [
    {
      "cell_type": "markdown",
      "metadata": {
        "id": "view-in-github",
        "colab_type": "text"
      },
      "source": [
        "<a href=\"https://colab.research.google.com/github/changsin/DeepLearning-101/blob/master/01_python_basics.ipynb\" target=\"_parent\"><img src=\"https://colab.research.google.com/assets/colab-badge.svg\" alt=\"Open In Colab\"/></a>"
      ]
    },
    {
      "cell_type": "code",
      "metadata": {
        "id": "pOB0ui-Nsktd",
        "outputId": "3e611884-e140-4f1b-8b39-606500071587",
        "colab": {
          "base_uri": "https://localhost:8080/",
          "height": 34
        }
      },
      "source": [
        "print('Hello world')"
      ],
      "execution_count": 1,
      "outputs": [
        {
          "output_type": "stream",
          "text": [
            "Hello world\n"
          ],
          "name": "stdout"
        }
      ]
    },
    {
      "cell_type": "markdown",
      "metadata": {
        "id": "g5H2P6ZdyJxf"
      },
      "source": [
        ""
      ]
    },
    {
      "cell_type": "code",
      "metadata": {
        "id": "s1b2FosJsrP2",
        "outputId": "c017cf91-4ed1-4ea7-d97a-e077e35c3b89",
        "colab": {
          "base_uri": "https://localhost:8080/",
          "height": 130
        }
      },
      "source": [
        "## Python native data types\n",
        "\n",
        "Python has many native datatypes. Here are the important ones:\n",
        "\n",
        " - **Booleans** are either `True` or `False`.\n",
        " - **Numbers** can be integers (1 and 2), floats (1.1 and 1.2), fractions (1/2 and 2/3), or even complex numbers.\n",
        " - **Strings** are sequences of Unicode characters, e.g. an html document.\n",
        " - **Lists** are ordered sequences of values.\n",
        " - **Tuples** are ordered, immutable sequences of values.\n",
        " - **Sets** are unordered bags of values.\n",
        " - **Dictionaries** are unordered bags of key-value pairs.\n",
        " \n",
        "See [here](http://www.diveintopython3.net/native-datatypes.html) for a complete overview.\n"
      ],
      "execution_count": 2,
      "outputs": [
        {
          "output_type": "error",
          "ename": "SyntaxError",
          "evalue": "ignored",
          "traceback": [
            "\u001b[0;36m  File \u001b[0;32m\"<ipython-input-2-9777a9836867>\"\u001b[0;36m, line \u001b[0;32m3\u001b[0m\n\u001b[0;31m    Python has many native datatypes. Here are the important ones:\u001b[0m\n\u001b[0m             ^\u001b[0m\n\u001b[0;31mSyntaxError\u001b[0m\u001b[0;31m:\u001b[0m invalid syntax\n"
          ]
        }
      ]
    },
    {
      "cell_type": "code",
      "metadata": {
        "id": "Hg3_piR5yNdr"
      },
      "source": [
        ""
      ],
      "execution_count": null,
      "outputs": []
    }
  ]
}