{
  "nbformat": 4,
  "nbformat_minor": 0,
  "metadata": {
    "kernelspec": {
      "display_name": "Python 3",
      "language": "python",
      "name": "python3"
    },
    "language_info": {
      "codemirror_mode": {
        "name": "ipython",
        "version": 3
      },
      "file_extension": ".py",
      "mimetype": "text/x-python",
      "name": "python",
      "nbconvert_exporter": "python",
      "pygments_lexer": "ipython3",
      "version": "3.8.2"
    },
    "colab": {
      "name": "02-tensorflow-basics.ipynb",
      "provenance": [],
      "include_colab_link": true
    }
  },
  "cells": [
    {
      "cell_type": "markdown",
      "metadata": {
        "id": "view-in-github",
        "colab_type": "text"
      },
      "source": [
        "<a href=\"https://colab.research.google.com/github/changsin/DeepLearning-101/blob/master/02-tensorflow-basics.ipynb\" target=\"_parent\"><img src=\"https://colab.research.google.com/assets/colab-badge.svg\" alt=\"Open In Colab\"/></a>"
      ]
    },
    {
      "cell_type": "code",
      "metadata": {
        "id": "SU5gZi9MfvfY",
        "outputId": "3dbd3b83-0dbd-4e56-e305-2f5f3295e211",
        "colab": {
          "base_uri": "https://localhost:8080/",
          "height": 35
        }
      },
      "source": [
        "import numpy as np\n",
        "import tensorflow as tf\n",
        "\n",
        "from tensorflow import keras\n",
        "from tensorflow.keras import layers\n",
        "from tensorflow.keras.datasets import mnist\n",
        "\n",
        "tf.__version__"
      ],
      "execution_count": 1,
      "outputs": [
        {
          "output_type": "execute_result",
          "data": {
            "application/vnd.google.colaboratory.intrinsic+json": {
              "type": "string"
            },
            "text/plain": [
              "'2.3.0'"
            ]
          },
          "metadata": {
            "tags": []
          },
          "execution_count": 1
        }
      ]
    },
    {
      "cell_type": "code",
      "metadata": {
        "id": "8mO_TiYwfvfh"
      },
      "source": [
        "tf_string_greetings = tf.constant(\"Hello world!\")"
      ],
      "execution_count": 2,
      "outputs": []
    },
    {
      "cell_type": "code",
      "metadata": {
        "id": "u0UynQRdfvfl"
      },
      "source": [
        "tf_scala_example = tf.constant(1)"
      ],
      "execution_count": 3,
      "outputs": []
    },
    {
      "cell_type": "code",
      "metadata": {
        "id": "zKyL09x1fvfn",
        "outputId": "07920c92-5e17-4d1a-ccee-2ec19b61de7c",
        "colab": {
          "base_uri": "https://localhost:8080/"
        }
      },
      "source": [
        "print(tf_scala_example)"
      ],
      "execution_count": 4,
      "outputs": [
        {
          "output_type": "stream",
          "text": [
            "tf.Tensor(1, shape=(), dtype=int32)\n"
          ],
          "name": "stdout"
        }
      ]
    },
    {
      "cell_type": "code",
      "metadata": {
        "id": "stg3NUOefvfq",
        "outputId": "e6a037b2-c939-44a0-f299-88568686c6ae",
        "colab": {
          "base_uri": "https://localhost:8080/"
        }
      },
      "source": [
        "tf.constant([1,2,3])"
      ],
      "execution_count": 5,
      "outputs": [
        {
          "output_type": "execute_result",
          "data": {
            "text/plain": [
              "<tf.Tensor: shape=(3,), dtype=int32, numpy=array([1, 2, 3], dtype=int32)>"
            ]
          },
          "metadata": {
            "tags": []
          },
          "execution_count": 5
        }
      ]
    },
    {
      "cell_type": "code",
      "metadata": {
        "id": "21ha7EUvfvft",
        "outputId": "ee9fcefc-13f8-4fd5-fc63-0ce568594f8a",
        "colab": {
          "base_uri": "https://localhost:8080/"
        }
      },
      "source": [
        "ndarray1 = np.array([[1,2],[3, 4],[5,6],[2,4]])\n",
        "ndarray2 = np.array([[[1,2],[1,4],[1,4]],[[2,2],[2,4],[2,4]]])\n",
        "\n",
        "print(type(ndarray1))\n",
        "\n",
        "print(ndarray1.shape)\n",
        "print(ndarray2.shape)"
      ],
      "execution_count": 6,
      "outputs": [
        {
          "output_type": "stream",
          "text": [
            "<class 'numpy.ndarray'>\n",
            "(4, 2)\n",
            "(2, 3, 2)\n"
          ],
          "name": "stdout"
        }
      ]
    },
    {
      "cell_type": "code",
      "metadata": {
        "id": "ktpv3aBAfvf0",
        "outputId": "9dd6fa4f-4efd-4901-a8b8-c1d246ed8b09",
        "colab": {
          "base_uri": "https://localhost:8080/"
        }
      },
      "source": [
        "# X and Y data\n",
        "x_train = np.array([1, 2, 3, 4, 5, 6, 7]).astype('float32')\n",
        "y_train = np.array([2, 4, 6, 8, 10, 12, 14]).astype('float32')\n",
        "\n",
        "# Try to find values for W and b to compute y_data = x_data * W + b\n",
        "# We know that W should be 1 and b should be 0\n",
        "# But let TensorFlow figure it out\n",
        "W = tf.Variable(tf.random.normal([1]), name=\"weight\")\n",
        "b = tf.Variable(tf.random.normal([1]), name=\"bias\")\n",
        "\n",
        "# Our hypothesis XW+b\n",
        "hypothesis = x_train * W + b\n",
        "\n",
        "# cost/loss function\n",
        "def loss_function(hypothesis, y_train):\n",
        "    return tf.reduce_mean(tf.square(hypothesis - y_train))\n",
        "\n",
        "# optimizer\n",
        "train_optimizer = keras.optimizers.SGD(learning_rate=0.08)\n",
        "print(np.array(x_train).shape)"
      ],
      "execution_count": 7,
      "outputs": [
        {
          "output_type": "stream",
          "text": [
            "(7,)\n"
          ],
          "name": "stdout"
        }
      ]
    },
    {
      "cell_type": "code",
      "metadata": {
        "id": "5FdHjI7nfvf4",
        "outputId": "9b8fd745-7900-4ab4-f6fc-4cadcc5eed2c",
        "colab": {
          "base_uri": "https://localhost:8080/"
        }
      },
      "source": [
        "# Define Sequential model with 3 layers\n",
        "model = keras.Sequential(\n",
        "    [\n",
        "        tf.keras.layers.Flatten(input_shape=(1,)),\n",
        "        layers.Dense(3, activation=\"sigmoid\", name=\"layer2\"),\n",
        "        layers.Dense(1, name=\"layer3\"),\n",
        "    ]\n",
        ")\n",
        "\n",
        "y = model(x_train, y_train)\n",
        "model.summary()"
      ],
      "execution_count": 8,
      "outputs": [
        {
          "output_type": "stream",
          "text": [
            "Model: \"sequential\"\n",
            "_________________________________________________________________\n",
            "Layer (type)                 Output Shape              Param #   \n",
            "=================================================================\n",
            "flatten (Flatten)            (None, 1)                 0         \n",
            "_________________________________________________________________\n",
            "layer2 (Dense)               (None, 3)                 6         \n",
            "_________________________________________________________________\n",
            "layer3 (Dense)               (None, 1)                 4         \n",
            "=================================================================\n",
            "Total params: 10\n",
            "Trainable params: 10\n",
            "Non-trainable params: 0\n",
            "_________________________________________________________________\n"
          ],
          "name": "stdout"
        }
      ]
    },
    {
      "cell_type": "code",
      "metadata": {
        "id": "fRZBYttofvf7",
        "outputId": "2e82d514-958e-4ab3-dc83-30c3ec0243c3",
        "colab": {
          "base_uri": "https://localhost:8080/"
        }
      },
      "source": [
        "print(x_train)\n",
        "print(y_train)"
      ],
      "execution_count": 9,
      "outputs": [
        {
          "output_type": "stream",
          "text": [
            "[1. 2. 3. 4. 5. 6. 7.]\n",
            "[ 2.  4.  6.  8. 10. 12. 14.]\n"
          ],
          "name": "stdout"
        }
      ]
    },
    {
      "cell_type": "code",
      "metadata": {
        "id": "1Hoq7hTsfvf-"
      },
      "source": [
        "model.compile(optimizer=train_optimizer,\n",
        "              loss=loss_function,\n",
        "              metrics=['accuracy'])"
      ],
      "execution_count": 10,
      "outputs": []
    },
    {
      "cell_type": "code",
      "metadata": {
        "id": "y8XUZ-jPfvgA",
        "outputId": "e1a80fd7-9dfd-49dc-dd24-7f8062330514",
        "colab": {
          "base_uri": "https://localhost:8080/"
        }
      },
      "source": [
        "model.fit(x_train, y_train, epochs=10)"
      ],
      "execution_count": 11,
      "outputs": [
        {
          "output_type": "stream",
          "text": [
            "Epoch 1/10\n",
            "1/1 [==============================] - 0s 1ms/step - loss: 66.7030 - accuracy: 0.0000e+00\n",
            "Epoch 2/10\n",
            "1/1 [==============================] - 0s 2ms/step - loss: 37.7951 - accuracy: 0.0000e+00\n",
            "Epoch 3/10\n",
            "1/1 [==============================] - 0s 2ms/step - loss: 22.3802 - accuracy: 0.0000e+00\n",
            "Epoch 4/10\n",
            "1/1 [==============================] - 0s 3ms/step - loss: 16.7990 - accuracy: 0.0000e+00\n",
            "Epoch 5/10\n",
            "1/1 [==============================] - 0s 4ms/step - loss: 14.9375 - accuracy: 0.0000e+00\n",
            "Epoch 6/10\n",
            "1/1 [==============================] - 0s 2ms/step - loss: 14.1476 - accuracy: 0.0000e+00\n",
            "Epoch 7/10\n",
            "1/1 [==============================] - 0s 2ms/step - loss: 13.6282 - accuracy: 0.0000e+00\n",
            "Epoch 8/10\n",
            "1/1 [==============================] - 0s 2ms/step - loss: 13.1477 - accuracy: 0.0000e+00\n",
            "Epoch 9/10\n",
            "1/1 [==============================] - 0s 3ms/step - loss: 12.6229 - accuracy: 0.0000e+00\n",
            "Epoch 10/10\n",
            "1/1 [==============================] - 0s 2ms/step - loss: 11.9894 - accuracy: 0.0000e+00\n"
          ],
          "name": "stdout"
        },
        {
          "output_type": "execute_result",
          "data": {
            "text/plain": [
              "<tensorflow.python.keras.callbacks.History at 0x7fdb5c590d30>"
            ]
          },
          "metadata": {
            "tags": []
          },
          "execution_count": 11
        }
      ]
    },
    {
      "cell_type": "code",
      "metadata": {
        "id": "3AIlJXPYfvgC"
      },
      "source": [
        "_, train_acc = model.evaluate(x_train, y_train, verbose=0)"
      ],
      "execution_count": 12,
      "outputs": []
    },
    {
      "cell_type": "code",
      "metadata": {
        "id": "xN0TvRC_fvgF",
        "outputId": "cae2390b-65e0-42c1-9419-373f98ce148b",
        "colab": {
          "base_uri": "https://localhost:8080/"
        }
      },
      "source": [
        "print(train_acc)\n",
        "\n",
        "print(model.predict([1, 2, 3, 6]))\n",
        "# print(model.predict([7, 8, 9]))\n",
        "# print(model.predict([10, 12, 13]))\n",
        "\n",
        "# print(model.predict([100, 120, 130]))"
      ],
      "execution_count": 13,
      "outputs": [
        {
          "output_type": "stream",
          "text": [
            "0.0\n",
            "[[6.531958 ]\n",
            " [7.3089347]\n",
            " [7.868497 ]\n",
            " [8.55012  ]]\n"
          ],
          "name": "stdout"
        }
      ]
    },
    {
      "cell_type": "code",
      "metadata": {
        "id": "5I52WOHyfvgI",
        "outputId": "7b51bd3f-5666-45fa-c4a3-0817baeff493",
        "colab": {
          "base_uri": "https://localhost:8080/"
        }
      },
      "source": [
        "print(W)\n",
        "print(b)\n",
        "print(hypothesis)\n",
        "\n",
        "loss = lambda: var_num\n",
        "\n",
        "# loss_fn = lambda: tf.keras.losses.mse(model(x_train), output)\n",
        "# var_list_fn = lambda: model.trainable_weights\n",
        "\n",
        "var_num = tf.Variable(10.0)\n",
        "train_optimizer.minimize(loss, [var_num]).numpy()"
      ],
      "execution_count": 14,
      "outputs": [
        {
          "output_type": "stream",
          "text": [
            "<tf.Variable 'weight:0' shape=(1,) dtype=float32, numpy=array([0.91905624], dtype=float32)>\n",
            "<tf.Variable 'bias:0' shape=(1,) dtype=float32, numpy=array([0.8664535], dtype=float32)>\n",
            "tf.Tensor([1.7855098 2.704566  3.6236224 4.5426784 5.461735  6.380791  7.299847 ], shape=(7,), dtype=float32)\n"
          ],
          "name": "stdout"
        },
        {
          "output_type": "execute_result",
          "data": {
            "text/plain": [
              "11"
            ]
          },
          "metadata": {
            "tags": []
          },
          "execution_count": 14
        }
      ]
    },
    {
      "cell_type": "code",
      "metadata": {
        "id": "UNTlOT9hf_-3"
      },
      "source": [
        ""
      ],
      "execution_count": null,
      "outputs": []
    }
  ]
}