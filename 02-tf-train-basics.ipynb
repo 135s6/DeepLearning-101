{
 "cells": [
  {
   "cell_type": "markdown",
   "metadata": {
    "colab_type": "text",
    "id": "view-in-github"
   },
   "source": [
    "<a href=\"https://colab.research.google.com/github/changsin/DeepLearning-101/blob/master/02-tensorflow-basics.ipynb\" target=\"_parent\"><img src=\"https://colab.research.google.com/assets/colab-badge.svg\" alt=\"Open In Colab\"/></a>"
   ]
  },
  {
   "cell_type": "code",
   "execution_count": 1,
   "metadata": {
    "colab": {
     "base_uri": "https://localhost:8080/",
     "height": 35
    },
    "id": "SU5gZi9MfvfY",
    "outputId": "3dbd3b83-0dbd-4e56-e305-2f5f3295e211"
   },
   "outputs": [
    {
     "data": {
      "application/vnd.google.colaboratory.intrinsic+json": {
       "type": "string"
      },
      "text/plain": [
       "'2.3.0'"
      ]
     },
     "execution_count": 1,
     "metadata": {
      "tags": []
     },
     "output_type": "execute_result"
    }
   ],
   "source": [
    "import numpy as np\n",
    "import tensorflow as tf\n",
    "\n",
    "from tensorflow import keras\n",
    "from tensorflow.keras import layers\n",
    "from tensorflow.keras.datasets import mnist\n",
    "\n",
    "tf.__version__"
   ]
  },
  {
   "cell_type": "code",
   "execution_count": 2,
   "metadata": {
    "id": "8mO_TiYwfvfh"
   },
   "outputs": [],
   "source": [
    "tf_string_greetings = tf.constant(\"Hello world!\")"
   ]
  },
  {
   "cell_type": "code",
   "execution_count": 3,
   "metadata": {
    "id": "u0UynQRdfvfl"
   },
   "outputs": [],
   "source": [
    "tf_scala_example = tf.constant(1)"
   ]
  },
  {
   "cell_type": "code",
   "execution_count": 4,
   "metadata": {
    "colab": {
     "base_uri": "https://localhost:8080/"
    },
    "id": "zKyL09x1fvfn",
    "outputId": "07920c92-5e17-4d1a-ccee-2ec19b61de7c"
   },
   "outputs": [
    {
     "name": "stdout",
     "output_type": "stream",
     "text": [
      "tf.Tensor(1, shape=(), dtype=int32)\n"
     ]
    }
   ],
   "source": [
    "print(tf_scala_example)"
   ]
  },
  {
   "cell_type": "code",
   "execution_count": 5,
   "metadata": {
    "colab": {
     "base_uri": "https://localhost:8080/"
    },
    "id": "stg3NUOefvfq",
    "outputId": "e6a037b2-c939-44a0-f299-88568686c6ae"
   },
   "outputs": [
    {
     "data": {
      "text/plain": [
       "<tf.Tensor: shape=(3,), dtype=int32, numpy=array([1, 2, 3], dtype=int32)>"
      ]
     },
     "execution_count": 5,
     "metadata": {
      "tags": []
     },
     "output_type": "execute_result"
    }
   ],
   "source": [
    "tf.constant([1,2,3])"
   ]
  },
  {
   "cell_type": "code",
   "execution_count": 6,
   "metadata": {
    "colab": {
     "base_uri": "https://localhost:8080/"
    },
    "id": "21ha7EUvfvft",
    "outputId": "ee9fcefc-13f8-4fd5-fc63-0ce568594f8a"
   },
   "outputs": [
    {
     "name": "stdout",
     "output_type": "stream",
     "text": [
      "<class 'numpy.ndarray'>\n",
      "(4, 2)\n",
      "(2, 3, 2)\n"
     ]
    }
   ],
   "source": [
    "ndarray1 = np.array([[1,2],[3, 4],[5,6],[2,4]])\n",
    "ndarray2 = np.array([[[1,2],[1,4],[1,4]],[[2,2],[2,4],[2,4]]])\n",
    "\n",
    "print(type(ndarray1))\n",
    "\n",
    "print(ndarray1.shape)\n",
    "print(ndarray2.shape)"
   ]
  },
  {
   "cell_type": "code",
   "execution_count": 7,
   "metadata": {
    "colab": {
     "base_uri": "https://localhost:8080/"
    },
    "id": "ktpv3aBAfvf0",
    "outputId": "9dd6fa4f-4efd-4901-a8b8-c1d246ed8b09"
   },
   "outputs": [
    {
     "name": "stdout",
     "output_type": "stream",
     "text": [
      "(7,)\n"
     ]
    }
   ],
   "source": [
    "# X and Y data\n",
    "x_train = np.array([1, 2, 3, 4, 5, 6, 7]).astype('float32')\n",
    "y_train = np.array([2, 4, 6, 8, 10, 12, 14]).astype('float32')\n",
    "\n",
    "# Try to find values for W and b to compute y_data = x_data * W + b\n",
    "# We know that W should be 1 and b should be 0\n",
    "# But let TensorFlow figure it out\n",
    "W = tf.Variable(tf.random.normal([1]), name=\"weight\")\n",
    "b = tf.Variable(tf.random.normal([1]), name=\"bias\")\n",
    "\n",
    "# Our hypothesis XW+b\n",
    "hypothesis = x_train * W + b\n",
    "\n",
    "# cost/loss function\n",
    "def loss_function(hypothesis, y_train):\n",
    "    return tf.reduce_mean(tf.square(hypothesis - y_train))\n",
    "\n",
    "# optimizer\n",
    "train_optimizer = keras.optimizers.SGD(learning_rate=0.08)\n",
    "print(np.array(x_train).shape)"
   ]
  },
  {
   "cell_type": "code",
   "execution_count": 8,
   "metadata": {
    "colab": {
     "base_uri": "https://localhost:8080/"
    },
    "id": "5FdHjI7nfvf4",
    "outputId": "9b8fd745-7900-4ab4-f6fc-4cadcc5eed2c"
   },
   "outputs": [
    {
     "name": "stdout",
     "output_type": "stream",
     "text": [
      "Model: \"sequential\"\n",
      "_________________________________________________________________\n",
      "Layer (type)                 Output Shape              Param #   \n",
      "=================================================================\n",
      "flatten (Flatten)            (None, 1)                 0         \n",
      "_________________________________________________________________\n",
      "layer2 (Dense)               (None, 3)                 6         \n",
      "_________________________________________________________________\n",
      "layer3 (Dense)               (None, 1)                 4         \n",
      "=================================================================\n",
      "Total params: 10\n",
      "Trainable params: 10\n",
      "Non-trainable params: 0\n",
      "_________________________________________________________________\n"
     ]
    }
   ],
   "source": [
    "# Define Sequential model with 3 layers\n",
    "model = keras.Sequential([\n",
    "    tf.keras.layers.Flatten(input_shape=(1,)),\n",
    "    layers.Dense(3, activation=\"sigmoid\", name=\"layer2\"),\n",
    "    layers.Dense(1, name=\"layer3\"),\n",
    "])\n",
    "\n",
    "y = model(x_train, y_train)\n",
    "model.summary()"
   ]
  },
  {
   "cell_type": "code",
   "execution_count": 9,
   "metadata": {
    "colab": {
     "base_uri": "https://localhost:8080/"
    },
    "id": "fRZBYttofvf7",
    "outputId": "2e82d514-958e-4ab3-dc83-30c3ec0243c3"
   },
   "outputs": [
    {
     "name": "stdout",
     "output_type": "stream",
     "text": [
      "[1. 2. 3. 4. 5. 6. 7.]\n",
      "[ 2.  4.  6.  8. 10. 12. 14.]\n"
     ]
    }
   ],
   "source": [
    "print(x_train)\n",
    "print(y_train)"
   ]
  },
  {
   "cell_type": "code",
   "execution_count": 10,
   "metadata": {
    "id": "1Hoq7hTsfvf-"
   },
   "outputs": [],
   "source": [
    "model.compile(optimizer=train_optimizer,\n",
    "              loss=loss_function,\n",
    "              metrics=['accuracy'])"
   ]
  },
  {
   "cell_type": "code",
   "execution_count": null,
   "metadata": {
    "colab": {
     "base_uri": "https://localhost:8080/"
    },
    "id": "y8XUZ-jPfvgA",
    "outputId": "e1a80fd7-9dfd-49dc-dd24-7f8062330514"
   },
   "outputs": [],
   "source": [
    "model.fit(x_train, y_train, epochs=10)"
   ]
  },
  {
   "cell_type": "code",
   "execution_count": 12,
   "metadata": {
    "id": "3AIlJXPYfvgC"
   },
   "outputs": [],
   "source": [
    "_, train_acc = model.evaluate(x_train, y_train, verbose=0)"
   ]
  },
  {
   "cell_type": "code",
   "execution_count": null,
   "metadata": {
    "colab": {
     "base_uri": "https://localhost:8080/"
    },
    "id": "xN0TvRC_fvgF",
    "outputId": "cae2390b-65e0-42c1-9419-373f98ce148b"
   },
   "outputs": [],
   "source": [
    "print(train_acc)\n",
    "\n",
    "print(model.predict([1, 2, 3, 6]))\n",
    "# print(model.predict([7, 8, 9]))\n",
    "# print(model.predict([10, 12, 13]))\n",
    "\n",
    "# print(model.predict([100, 120, 130]))"
   ]
  },
  {
   "cell_type": "code",
   "execution_count": null,
   "metadata": {
    "colab": {
     "base_uri": "https://localhost:8080/"
    },
    "id": "5I52WOHyfvgI",
    "outputId": "7b51bd3f-5666-45fa-c4a3-0817baeff493"
   },
   "outputs": [],
   "source": [
    "print(W)\n",
    "print(b)\n",
    "print(hypothesis)\n",
    "\n",
    "loss = lambda: var_num\n",
    "\n",
    "# loss_fn = lambda: tf.keras.losses.mse(model(x_train), output)\n",
    "# var_list_fn = lambda: model.trainable_weights\n",
    "\n",
    "var_num = tf.Variable(10.0)\n",
    "train_optimizer.minimize(loss, [var_num]).numpy()"
   ]
  },
  {
   "cell_type": "code",
   "execution_count": null,
   "metadata": {
    "id": "UNTlOT9hf_-3"
   },
   "outputs": [],
   "source": []
  }
 ],
 "metadata": {
  "colab": {
   "include_colab_link": true,
   "name": "02-tensorflow-basics.ipynb",
   "provenance": []
  },
  "kernelspec": {
   "display_name": "Python 3",
   "language": "python",
   "name": "python3"
  },
  "language_info": {
   "codemirror_mode": {
    "name": "ipython",
    "version": 3
   },
   "file_extension": ".py",
   "mimetype": "text/x-python",
   "name": "python",
   "nbconvert_exporter": "python",
   "pygments_lexer": "ipython3",
   "version": "3.8.2"
  }
 },
 "nbformat": 4,
 "nbformat_minor": 4
}
