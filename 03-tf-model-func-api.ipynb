{
  "nbformat": 4,
  "nbformat_minor": 0,
  "metadata": {
    "kernelspec": {
      "display_name": "Python 3",
      "language": "python",
      "name": "python3"
    },
    "language_info": {
      "codemirror_mode": {
        "name": "ipython",
        "version": 3
      },
      "file_extension": ".py",
      "mimetype": "text/x-python",
      "name": "python",
      "nbconvert_exporter": "python",
      "pygments_lexer": "ipython3",
      "version": "3.7.4"
    },
    "colab": {
      "name": "03-tf-model-func-api.ipynb",
      "provenance": [],
      "include_colab_link": true
    }
  },
  "cells": [
    {
      "cell_type": "markdown",
      "metadata": {
        "id": "view-in-github",
        "colab_type": "text"
      },
      "source": [
        "<a href=\"https://colab.research.google.com/github/changsin/DeepLearning-101/blob/master/03-tf-model-func-api.ipynb\" target=\"_parent\"><img src=\"https://colab.research.google.com/assets/colab-badge.svg\" alt=\"Open In Colab\"/></a>"
      ]
    },
    {
      "cell_type": "code",
      "metadata": {
        "id": "3XlgSoVLgToA"
      },
      "source": [
        "import tensorflow as tf\n",
        "import numpy as np\n",
        "from tensorflow import keras\n",
        "from matplotlib import pyplot"
      ],
      "execution_count": 1,
      "outputs": []
    },
    {
      "cell_type": "code",
      "metadata": {
        "id": "mRSZnEIzgToJ",
        "outputId": "81ceb5b9-6bdd-42ed-d530-f73af882535d",
        "colab": {
          "base_uri": "https://localhost:8080/"
        }
      },
      "source": [
        "input_layer = keras.layers.Input((1))\n",
        "\n",
        "# x = keras.layers.Flatten()(input_layer)\n",
        "\n",
        "output_layer = keras.layers.Dense(units=1, input_shape=[1])(input_layer)\n",
        "\n",
        "\n",
        "# output_layer = keras.layers.Dense(1, activation = 'softmax')(x)\n",
        "\n",
        "model = tf.keras.models.Model(input_layer, output_layer)\n",
        "\n",
        "model.summary()"
      ],
      "execution_count": 2,
      "outputs": [
        {
          "output_type": "stream",
          "text": [
            "Model: \"functional_1\"\n",
            "_________________________________________________________________\n",
            "Layer (type)                 Output Shape              Param #   \n",
            "=================================================================\n",
            "input_1 (InputLayer)         [(None, 1)]               0         \n",
            "_________________________________________________________________\n",
            "dense (Dense)                (None, 1)                 2         \n",
            "=================================================================\n",
            "Total params: 2\n",
            "Trainable params: 2\n",
            "Non-trainable params: 0\n",
            "_________________________________________________________________\n"
          ],
          "name": "stdout"
        }
      ]
    },
    {
      "cell_type": "code",
      "metadata": {
        "collapsed": true,
        "jupyter": {
          "outputs_hidden": true
        },
        "id": "cAh6lRKVgToR",
        "outputId": "64af7e82-e35d-4634-dae7-393136b5ea97",
        "colab": {
          "base_uri": "https://localhost:8080/"
        }
      },
      "source": [
        "x_train = np.array([-1.0, 0.0, 1.0, 2.0, 3.0, 4.0], dtype=float)\n",
        "y_train = np.array([-2.0, 1.0, 4.0, 7.0, 10.0, 13.0], dtype=float)\n",
        "\n",
        "opt = keras.optimizers.SGD(lr=0.05)\n",
        "model.compile(loss='mean_squared_error', optimizer='sgd', metrics=['accuracy'])\n",
        "\n",
        "history = model.fit(x_train, y_train, epochs=50, shuffle=True)\n"
      ],
      "execution_count": 3,
      "outputs": [
        {
          "output_type": "stream",
          "text": [
            "Epoch 1/50\n",
            "1/1 [==============================] - 0s 1ms/step - loss: 46.4770 - accuracy: 0.0000e+00\n",
            "Epoch 2/50\n",
            "1/1 [==============================] - 0s 1ms/step - loss: 36.5674 - accuracy: 0.0000e+00\n",
            "Epoch 3/50\n",
            "1/1 [==============================] - 0s 4ms/step - loss: 28.7710 - accuracy: 0.0000e+00\n",
            "Epoch 4/50\n",
            "1/1 [==============================] - 0s 1ms/step - loss: 22.6372 - accuracy: 0.0000e+00\n",
            "Epoch 5/50\n",
            "1/1 [==============================] - 0s 2ms/step - loss: 17.8113 - accuracy: 0.0000e+00\n",
            "Epoch 6/50\n",
            "1/1 [==============================] - 0s 2ms/step - loss: 14.0145 - accuracy: 0.0000e+00\n",
            "Epoch 7/50\n",
            "1/1 [==============================] - 0s 911us/step - loss: 11.0274 - accuracy: 0.0000e+00\n",
            "Epoch 8/50\n",
            "1/1 [==============================] - 0s 2ms/step - loss: 8.6772 - accuracy: 0.1667\n",
            "Epoch 9/50\n",
            "1/1 [==============================] - 0s 2ms/step - loss: 6.8282 - accuracy: 0.1667\n",
            "Epoch 10/50\n",
            "1/1 [==============================] - 0s 2ms/step - loss: 5.3734 - accuracy: 0.1667\n",
            "Epoch 11/50\n",
            "1/1 [==============================] - 0s 2ms/step - loss: 4.2288 - accuracy: 0.1667\n",
            "Epoch 12/50\n",
            "1/1 [==============================] - 0s 2ms/step - loss: 3.3283 - accuracy: 0.1667\n",
            "Epoch 13/50\n",
            "1/1 [==============================] - 0s 2ms/step - loss: 2.6198 - accuracy: 0.1667\n",
            "Epoch 14/50\n",
            "1/1 [==============================] - 0s 2ms/step - loss: 2.0624 - accuracy: 0.1667\n",
            "Epoch 15/50\n",
            "1/1 [==============================] - 0s 2ms/step - loss: 1.6238 - accuracy: 0.1667\n",
            "Epoch 16/50\n",
            "1/1 [==============================] - 0s 2ms/step - loss: 1.2787 - accuracy: 0.1667\n",
            "Epoch 17/50\n",
            "1/1 [==============================] - 0s 2ms/step - loss: 1.0072 - accuracy: 0.1667\n",
            "Epoch 18/50\n",
            "1/1 [==============================] - 0s 2ms/step - loss: 0.7935 - accuracy: 0.1667\n",
            "Epoch 19/50\n",
            "1/1 [==============================] - 0s 2ms/step - loss: 0.6254 - accuracy: 0.1667\n",
            "Epoch 20/50\n",
            "1/1 [==============================] - 0s 2ms/step - loss: 0.4931 - accuracy: 0.1667\n",
            "Epoch 21/50\n",
            "1/1 [==============================] - 0s 2ms/step - loss: 0.3890 - accuracy: 0.1667\n",
            "Epoch 22/50\n",
            "1/1 [==============================] - 0s 2ms/step - loss: 0.3071 - accuracy: 0.1667\n",
            "Epoch 23/50\n",
            "1/1 [==============================] - 0s 2ms/step - loss: 0.2426 - accuracy: 0.1667\n",
            "Epoch 24/50\n",
            "1/1 [==============================] - 0s 2ms/step - loss: 0.1919 - accuracy: 0.1667\n",
            "Epoch 25/50\n",
            "1/1 [==============================] - 0s 2ms/step - loss: 0.1519 - accuracy: 0.1667\n",
            "Epoch 26/50\n",
            "1/1 [==============================] - 0s 2ms/step - loss: 0.1205 - accuracy: 0.1667\n",
            "Epoch 27/50\n",
            "1/1 [==============================] - 0s 2ms/step - loss: 0.0957 - accuracy: 0.1667\n",
            "Epoch 28/50\n",
            "1/1 [==============================] - 0s 3ms/step - loss: 0.0762 - accuracy: 0.1667\n",
            "Epoch 29/50\n",
            "1/1 [==============================] - 0s 2ms/step - loss: 0.0609 - accuracy: 0.1667\n",
            "Epoch 30/50\n",
            "1/1 [==============================] - 0s 2ms/step - loss: 0.0488 - accuracy: 0.1667\n",
            "Epoch 31/50\n",
            "1/1 [==============================] - 0s 3ms/step - loss: 0.0392 - accuracy: 0.1667\n",
            "Epoch 32/50\n",
            "1/1 [==============================] - 0s 2ms/step - loss: 0.0317 - accuracy: 0.1667\n",
            "Epoch 33/50\n",
            "1/1 [==============================] - 0s 3ms/step - loss: 0.0258 - accuracy: 0.1667\n",
            "Epoch 34/50\n",
            "1/1 [==============================] - 0s 2ms/step - loss: 0.0211 - accuracy: 0.1667\n",
            "Epoch 35/50\n",
            "1/1 [==============================] - 0s 2ms/step - loss: 0.0174 - accuracy: 0.1667\n",
            "Epoch 36/50\n",
            "1/1 [==============================] - 0s 2ms/step - loss: 0.0145 - accuracy: 0.1667\n",
            "Epoch 37/50\n",
            "1/1 [==============================] - 0s 2ms/step - loss: 0.0121 - accuracy: 0.1667\n",
            "Epoch 38/50\n",
            "1/1 [==============================] - 0s 3ms/step - loss: 0.0103 - accuracy: 0.1667\n",
            "Epoch 39/50\n",
            "1/1 [==============================] - 0s 2ms/step - loss: 0.0088 - accuracy: 0.1667\n",
            "Epoch 40/50\n",
            "1/1 [==============================] - 0s 3ms/step - loss: 0.0077 - accuracy: 0.1667\n",
            "Epoch 41/50\n",
            "1/1 [==============================] - 0s 4ms/step - loss: 0.0067 - accuracy: 0.1667\n",
            "Epoch 42/50\n",
            "1/1 [==============================] - 0s 5ms/step - loss: 0.0060 - accuracy: 0.1667\n",
            "Epoch 43/50\n",
            "1/1 [==============================] - 0s 5ms/step - loss: 0.0054 - accuracy: 0.1667\n",
            "Epoch 44/50\n",
            "1/1 [==============================] - 0s 5ms/step - loss: 0.0049 - accuracy: 0.1667\n",
            "Epoch 45/50\n",
            "1/1 [==============================] - 0s 4ms/step - loss: 0.0045 - accuracy: 0.1667\n",
            "Epoch 46/50\n",
            "1/1 [==============================] - 0s 3ms/step - loss: 0.0042 - accuracy: 0.1667\n",
            "Epoch 47/50\n",
            "1/1 [==============================] - 0s 3ms/step - loss: 0.0039 - accuracy: 0.1667\n",
            "Epoch 48/50\n",
            "1/1 [==============================] - 0s 3ms/step - loss: 0.0037 - accuracy: 0.1667\n",
            "Epoch 49/50\n",
            "1/1 [==============================] - 0s 4ms/step - loss: 0.0035 - accuracy: 0.1667\n",
            "Epoch 50/50\n",
            "1/1 [==============================] - 0s 4ms/step - loss: 0.0033 - accuracy: 0.1667\n"
          ],
          "name": "stdout"
        }
      ]
    },
    {
      "cell_type": "code",
      "metadata": {
        "id": "JxlucQ9MgToV",
        "outputId": "562de908-dd3d-4fdd-fbe6-146a5164c552",
        "colab": {
          "base_uri": "https://localhost:8080/"
        }
      },
      "source": [
        "print(model.predict([-5, 10.0, 15]))"
      ],
      "execution_count": 4,
      "outputs": [
        {
          "output_type": "stream",
          "text": [
            "[[-14.154349]\n",
            " [ 31.088423]\n",
            " [ 46.169346]]\n"
          ],
          "name": "stdout"
        }
      ]
    },
    {
      "cell_type": "code",
      "metadata": {
        "id": "EsJZDj27gToZ",
        "outputId": "313cfc06-82d3-47ee-c050-2a040465c608",
        "colab": {
          "base_uri": "https://localhost:8080/",
          "height": 281
        }
      },
      "source": [
        "# plot loss during training\n",
        "pyplot.subplot(211)\n",
        "pyplot.title('Loss')\n",
        "pyplot.plot(history.history['loss'], label='train')\n",
        "# pyplot.plot(history.history['val_loss'], label='test')\n",
        "pyplot.legend()\n",
        "\n",
        "# plot mse during training\n",
        "pyplot.subplot(212)\n",
        "pyplot.title('Accuracy')\n",
        "pyplot.plot(history.history['accuracy'], label='train')\n",
        "# pyplot.plot(history.history['val_mean_squared_error'], label='test')\n",
        "pyplot.legend()\n",
        "pyplot.show()"
      ],
      "execution_count": 5,
      "outputs": [
        {
          "output_type": "display_data",
          "data": {
            "image/png": "[encoded data removed]",
            "text/plain": [
              "<Figure size 432x288 with 2 Axes>"
            ]
          },
          "metadata": {
            "tags": [],
            "needs_background": "light"
          }
        }
      ]
    },
    {
      "cell_type": "code",
      "metadata": {
        "id": "DqiT8rCogZWW"
      },
      "source": [
        ""
      ],
      "execution_count": 5,
      "outputs": []
    }
  ]
}