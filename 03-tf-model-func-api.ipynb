{
 "cells": [
  {
   "cell_type": "code",
   "execution_count": 1,
   "metadata": {},
   "outputs": [],
   "source": [
    "import tensorflow as tf\n",
    "import numpy as np\n",
    "from tensorflow import keras\n",
    "from matplotlib import pyplot"
   ]
  },
  {
   "cell_type": "code",
   "execution_count": 2,
   "metadata": {},
   "outputs": [
    {
     "name": "stdout",
     "output_type": "stream",
     "text": [
      "Model: \"functional_1\"\n",
      "_________________________________________________________________\n",
      "Layer (type)                 Output Shape              Param #   \n",
      "=================================================================\n",
      "input_1 (InputLayer)         [(None, 1)]               0         \n",
      "_________________________________________________________________\n",
      "dense (Dense)                (None, 1)                 2         \n",
      "=================================================================\n",
      "Total params: 2\n",
      "Trainable params: 2\n",
      "Non-trainable params: 0\n",
      "_________________________________________________________________\n"
     ]
    }
   ],
   "source": [
    "input_layer = keras.layers.Input((1))\n",
    "\n",
    "# x = keras.layers.Flatten()(input_layer)\n",
    "\n",
    "output_layer = keras.layers.Dense(units=1, input_shape=[1])(input_layer)\n",
    "\n",
    "\n",
    "# output_layer = keras.layers.Dense(1, activation = 'softmax')(x)\n",
    "\n",
    "model = tf.keras.models.Model(input_layer, output_layer)\n",
    "\n",
    "model.summary()"
   ]
  },
  {
   "cell_type": "code",
   "execution_count": 3,
   "metadata": {
    "collapsed": true,
    "jupyter": {
     "outputs_hidden": true
    }
   },
   "outputs": [
    {
     "name": "stdout",
     "output_type": "stream",
     "text": [
      "Epoch 1/50\n",
      "1/1 [==============================] - 0s 963us/step - loss: 48.8060 - accuracy: 0.0000e+00\n",
      "Epoch 2/50\n",
      "1/1 [==============================] - 0s 1000us/step - loss: 38.3993 - accuracy: 0.0000e+00\n",
      "Epoch 3/50\n",
      "1/1 [==============================] - 0s 2ms/step - loss: 30.2117 - accuracy: 0.0000e+00\n",
      "Epoch 4/50\n",
      "1/1 [==============================] - 0s 2ms/step - loss: 23.7701 - accuracy: 0.0000e+00\n",
      "Epoch 5/50\n",
      "1/1 [==============================] - 0s 0s/step - loss: 18.7022 - accuracy: 0.0000e+00\n",
      "Epoch 6/50\n",
      "1/1 [==============================] - 0s 1ms/step - loss: 14.7149 - accuracy: 0.0000e+00\n",
      "Epoch 7/50\n",
      "1/1 [==============================] - 0s 2ms/step - loss: 11.5780 - accuracy: 0.0000e+00\n",
      "Epoch 8/50\n",
      "1/1 [==============================] - 0s 2ms/step - loss: 9.1099 - accuracy: 0.1667\n",
      "Epoch 9/50\n",
      "1/1 [==============================] - 0s 1ms/step - loss: 7.1681 - accuracy: 0.1667\n",
      "Epoch 10/50\n",
      "1/1 [==============================] - 0s 1000us/step - loss: 5.6404 - accuracy: 0.1667\n",
      "Epoch 11/50\n",
      "1/1 [==============================] - 0s 998us/step - loss: 4.4385 - accuracy: 0.1667\n",
      "Epoch 12/50\n",
      "1/1 [==============================] - 0s 2ms/step - loss: 3.4929 - accuracy: 0.1667\n",
      "Epoch 13/50\n",
      "1/1 [==============================] - 0s 1ms/step - loss: 2.7488 - accuracy: 0.1667\n",
      "Epoch 14/50\n",
      "1/1 [==============================] - 0s 2ms/step - loss: 2.1635 - accuracy: 0.1667\n",
      "Epoch 15/50\n",
      "1/1 [==============================] - 0s 2ms/step - loss: 1.7029 - accuracy: 0.1667\n",
      "Epoch 16/50\n",
      "1/1 [==============================] - 0s 1ms/step - loss: 1.3406 - accuracy: 0.1667\n",
      "Epoch 17/50\n",
      "1/1 [==============================] - 0s 1ms/step - loss: 1.0555 - accuracy: 0.1667\n",
      "Epoch 18/50\n",
      "1/1 [==============================] - 0s 999us/step - loss: 0.8311 - accuracy: 0.1667\n",
      "Epoch 19/50\n",
      "1/1 [==============================] - 0s 999us/step - loss: 0.6546 - accuracy: 0.1667\n",
      "Epoch 20/50\n",
      "1/1 [==============================] - 0s 2ms/step - loss: 0.5158 - accuracy: 0.1667\n",
      "Epoch 21/50\n",
      "1/1 [==============================] - 0s 998us/step - loss: 0.4065 - accuracy: 0.1667\n",
      "Epoch 22/50\n",
      "1/1 [==============================] - 0s 998us/step - loss: 0.3205 - accuracy: 0.1667\n",
      "Epoch 23/50\n",
      "1/1 [==============================] - 0s 3ms/step - loss: 0.2528 - accuracy: 0.1667\n",
      "Epoch 24/50\n",
      "1/1 [==============================] - 0s 1ms/step - loss: 0.1996 - accuracy: 0.1667\n",
      "Epoch 25/50\n",
      "1/1 [==============================] - 0s 998us/step - loss: 0.1577 - accuracy: 0.1667\n",
      "Epoch 26/50\n",
      "1/1 [==============================] - 0s 1ms/step - loss: 0.1247 - accuracy: 0.1667\n",
      "Epoch 27/50\n",
      "1/1 [==============================] - 0s 1ms/step - loss: 0.0987 - accuracy: 0.1667\n",
      "Epoch 28/50\n",
      "1/1 [==============================] - 0s 1ms/step - loss: 0.0783 - accuracy: 0.1667\n",
      "Epoch 29/50\n",
      "1/1 [==============================] - 0s 3ms/step - loss: 0.0622 - accuracy: 0.1667\n",
      "Epoch 30/50\n",
      "1/1 [==============================] - 0s 999us/step - loss: 0.0495 - accuracy: 0.1667\n",
      "Epoch 31/50\n",
      "1/1 [==============================] - 0s 2ms/step - loss: 0.0395 - accuracy: 0.1667\n",
      "Epoch 32/50\n",
      "1/1 [==============================] - 0s 2ms/step - loss: 0.0317 - accuracy: 0.1667\n",
      "Epoch 33/50\n",
      "1/1 [==============================] - 0s 996us/step - loss: 0.0255 - accuracy: 0.1667\n",
      "Epoch 34/50\n",
      "1/1 [==============================] - 0s 3ms/step - loss: 0.0206 - accuracy: 0.1667\n",
      "Epoch 35/50\n",
      "1/1 [==============================] - 0s 999us/step - loss: 0.0167 - accuracy: 0.1667\n",
      "Epoch 36/50\n",
      "1/1 [==============================] - 0s 1ms/step - loss: 0.0137 - accuracy: 0.1667\n",
      "Epoch 37/50\n",
      "1/1 [==============================] - 0s 3ms/step - loss: 0.0113 - accuracy: 0.1667\n",
      "Epoch 38/50\n",
      "1/1 [==============================] - 0s 2ms/step - loss: 0.0094 - accuracy: 0.1667\n",
      "Epoch 39/50\n",
      "1/1 [==============================] - 0s 3ms/step - loss: 0.0079 - accuracy: 0.1667\n",
      "Epoch 40/50\n",
      "1/1 [==============================] - 0s 2ms/step - loss: 0.0067 - accuracy: 0.1667\n",
      "Epoch 41/50\n",
      "1/1 [==============================] - 0s 3ms/step - loss: 0.0057 - accuracy: 0.1667\n",
      "Epoch 42/50\n",
      "1/1 [==============================] - 0s 2ms/step - loss: 0.0049 - accuracy: 0.1667\n",
      "Epoch 43/50\n",
      "1/1 [==============================] - 0s 1ms/step - loss: 0.0043 - accuracy: 0.1667\n",
      "Epoch 44/50\n",
      "1/1 [==============================] - 0s 3ms/step - loss: 0.0039 - accuracy: 0.1667\n",
      "Epoch 45/50\n",
      "1/1 [==============================] - 0s 1ms/step - loss: 0.0035 - accuracy: 0.1667\n",
      "Epoch 46/50\n",
      "1/1 [==============================] - 0s 2ms/step - loss: 0.0031 - accuracy: 0.1667\n",
      "Epoch 47/50\n",
      "1/1 [==============================] - 0s 998us/step - loss: 0.0029 - accuracy: 0.1667\n",
      "Epoch 48/50\n",
      "1/1 [==============================] - 0s 3ms/step - loss: 0.0027 - accuracy: 0.1667\n",
      "Epoch 49/50\n",
      "1/1 [==============================] - 0s 1000us/step - loss: 0.0025 - accuracy: 0.1667\n",
      "Epoch 50/50\n",
      "1/1 [==============================] - 0s 999us/step - loss: 0.0024 - accuracy: 0.1667\n"
     ]
    }
   ],
   "source": [
    "x_train = np.array([-1.0, 0.0, 1.0, 2.0, 3.0, 4.0], dtype=float)\n",
    "y_train = np.array([-2.0, 1.0, 4.0, 7.0, 10.0, 13.0], dtype=float)\n",
    "\n",
    "opt = keras.optimizers.SGD(lr=0.05)\n",
    "model.compile(loss='mean_squared_error', optimizer='sgd', metrics=['accuracy'])\n",
    "\n",
    "history = model.fit(x_train, y_train, epochs=50, shuffle=True)\n"
   ]
  },
  {
   "cell_type": "code",
   "execution_count": 4,
   "metadata": {},
   "outputs": [
    {
     "name": "stdout",
     "output_type": "stream",
     "text": [
      "[[-14.119637]\n",
      " [ 31.057787]\n",
      " [ 46.11693 ]]\n"
     ]
    }
   ],
   "source": [
    "print(model.predict([-5, 10.0, 15]))"
   ]
  },
  {
   "cell_type": "code",
   "execution_count": 5,
   "metadata": {},
   "outputs": [
    {
     "data": {
      "image/png": "[encoded data removed]",
      "text/plain": [
       "<Figure size 432x288 with 2 Axes>"
      ]
     },
     "metadata": {
      "needs_background": "light"
     },
     "output_type": "display_data"
    }
   ],
   "source": [
    "# plot loss during training\n",
    "pyplot.subplot(211)\n",
    "pyplot.title('Loss')\n",
    "pyplot.plot(history.history['loss'], label='train')\n",
    "# pyplot.plot(history.history['val_loss'], label='test')\n",
    "pyplot.legend()\n",
    "\n",
    "# plot mse during training\n",
    "pyplot.subplot(212)\n",
    "pyplot.title('Accuracy')\n",
    "pyplot.plot(history.history['accuracy'], label='train')\n",
    "# pyplot.plot(history.history['val_mean_squared_error'], label='test')\n",
    "pyplot.legend()\n",
    "pyplot.show()"
   ]
  }
 ],
 "metadata": {
  "kernelspec": {
   "display_name": "Python 3",
   "language": "python",
   "name": "python3"
  },
  "language_info": {
   "codemirror_mode": {
    "name": "ipython",
    "version": 3
   },
   "file_extension": ".py",
   "mimetype": "text/x-python",
   "name": "python",
   "nbconvert_exporter": "python",
   "pygments_lexer": "ipython3",
   "version": "3.7.4"
  }
 },
 "nbformat": 4,
 "nbformat_minor": 4
}
