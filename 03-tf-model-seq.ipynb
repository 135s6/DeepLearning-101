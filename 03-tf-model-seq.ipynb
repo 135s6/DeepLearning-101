{
  "nbformat": 4,
  "nbformat_minor": 0,
  "metadata": {
    "kernelspec": {
      "display_name": "Python 3",
      "language": "python",
      "name": "python3"
    },
    "language_info": {
      "codemirror_mode": {
        "name": "ipython",
        "version": 3
      },
      "file_extension": ".py",
      "mimetype": "text/x-python",
      "name": "python",
      "nbconvert_exporter": "python",
      "pygments_lexer": "ipython3",
      "version": "3.8.2"
    },
    "colab": {
      "name": "03-tf-model-seq.ipynb",
      "provenance": [],
      "include_colab_link": true
    }
  },
  "cells": [
    {
      "cell_type": "markdown",
      "metadata": {
        "id": "view-in-github",
        "colab_type": "text"
      },
      "source": [
        "<a href=\"https://colab.research.google.com/github/changsin/DeepLearning-101/blob/master/03-tf-model-seq.ipynb\" target=\"_parent\"><img src=\"https://colab.research.google.com/assets/colab-badge.svg\" alt=\"Open In Colab\"/></a>"
      ]
    },
    {
      "cell_type": "code",
      "metadata": {
        "id": "nSt66UEZgsIC"
      },
      "source": [
        "import tensorflow as tf\n",
        "import numpy as np\n",
        "from tensorflow import keras\n",
        "from matplotlib import pyplot"
      ],
      "execution_count": 1,
      "outputs": []
    },
    {
      "cell_type": "code",
      "metadata": {
        "id": "STCNniTjgsIH",
        "outputId": "c5b55471-4e79-418f-d526-4c7f126df3fc",
        "colab": {
          "base_uri": "https://localhost:8080/"
        }
      },
      "source": [
        "model = tf.keras.Sequential([\n",
        "    keras.layers.Dense(units=1, input_shape=[1])\n",
        "])\n",
        "\n",
        "model.summary()"
      ],
      "execution_count": 2,
      "outputs": [
        {
          "output_type": "stream",
          "text": [
            "Model: \"sequential\"\n",
            "_________________________________________________________________\n",
            "Layer (type)                 Output Shape              Param #   \n",
            "=================================================================\n",
            "dense (Dense)                (None, 1)                 2         \n",
            "=================================================================\n",
            "Total params: 2\n",
            "Trainable params: 2\n",
            "Non-trainable params: 0\n",
            "_________________________________________________________________\n"
          ],
          "name": "stdout"
        }
      ]
    },
    {
      "cell_type": "code",
      "metadata": {
        "id": "Aew38L96gsIK"
      },
      "source": [
        "model.compile(optimizer='sgd', loss='mean_squared_error', metrics=['accuracy'])"
      ],
      "execution_count": 3,
      "outputs": []
    },
    {
      "cell_type": "code",
      "metadata": {
        "id": "4jy9-8BZgsIO",
        "outputId": "09eb827f-38cc-4e54-c25f-ed73ff39bb0d",
        "colab": {
          "base_uri": "https://localhost:8080/"
        }
      },
      "source": [
        "x_train = np.array([-1.0, 0.0, 1.0, 2.0, 3.0, 4.0], dtype=float)\n",
        "y_train = np.array([-2.0, 1.0, 4.0, 7.0, 10.0, 13.0], dtype=float)\n",
        "\n",
        "history = model.fit(x_train, y_train, epochs=50)"
      ],
      "execution_count": 4,
      "outputs": [
        {
          "output_type": "stream",
          "text": [
            "Epoch 1/50\n",
            "1/1 [==============================] - 0s 1ms/step - loss: 29.0499 - accuracy: 0.0000e+00\n",
            "Epoch 2/50\n",
            "1/1 [==============================] - 0s 4ms/step - loss: 22.8653 - accuracy: 0.0000e+00\n",
            "Epoch 3/50\n",
            "1/1 [==============================] - 0s 2ms/step - loss: 17.9993 - accuracy: 0.0000e+00\n",
            "Epoch 4/50\n",
            "1/1 [==============================] - 0s 1ms/step - loss: 14.1707 - accuracy: 0.0000e+00\n",
            "Epoch 5/50\n",
            "1/1 [==============================] - 0s 4ms/step - loss: 11.1584 - accuracy: 0.0000e+00\n",
            "Epoch 6/50\n",
            "1/1 [==============================] - 0s 1ms/step - loss: 8.7883 - accuracy: 0.0000e+00\n",
            "Epoch 7/50\n",
            "1/1 [==============================] - 0s 2ms/step - loss: 6.9234 - accuracy: 0.0000e+00\n",
            "Epoch 8/50\n",
            "1/1 [==============================] - 0s 1ms/step - loss: 5.4560 - accuracy: 0.0000e+00\n",
            "Epoch 9/50\n",
            "1/1 [==============================] - 0s 2ms/step - loss: 4.3013 - accuracy: 0.0000e+00\n",
            "Epoch 10/50\n",
            "1/1 [==============================] - 0s 2ms/step - loss: 3.3927 - accuracy: 0.0000e+00\n",
            "Epoch 11/50\n",
            "1/1 [==============================] - 0s 2ms/step - loss: 2.6777 - accuracy: 0.1667\n",
            "Epoch 12/50\n",
            "1/1 [==============================] - 0s 2ms/step - loss: 2.1149 - accuracy: 0.1667\n",
            "Epoch 13/50\n",
            "1/1 [==============================] - 0s 2ms/step - loss: 1.6720 - accuracy: 0.1667\n",
            "Epoch 14/50\n",
            "1/1 [==============================] - 0s 2ms/step - loss: 1.3234 - accuracy: 0.1667\n",
            "Epoch 15/50\n",
            "1/1 [==============================] - 0s 2ms/step - loss: 1.0490 - accuracy: 0.1667\n",
            "Epoch 16/50\n",
            "1/1 [==============================] - 0s 2ms/step - loss: 0.8329 - accuracy: 0.1667\n",
            "Epoch 17/50\n",
            "1/1 [==============================] - 0s 2ms/step - loss: 0.6628 - accuracy: 0.1667\n",
            "Epoch 18/50\n",
            "1/1 [==============================] - 0s 3ms/step - loss: 0.5287 - accuracy: 0.1667\n",
            "Epoch 19/50\n",
            "1/1 [==============================] - 0s 2ms/step - loss: 0.4231 - accuracy: 0.1667\n",
            "Epoch 20/50\n",
            "1/1 [==============================] - 0s 2ms/step - loss: 0.3399 - accuracy: 0.1667\n",
            "Epoch 21/50\n",
            "1/1 [==============================] - 0s 2ms/step - loss: 0.2743 - accuracy: 0.1667\n",
            "Epoch 22/50\n",
            "1/1 [==============================] - 0s 2ms/step - loss: 0.2225 - accuracy: 0.1667\n",
            "Epoch 23/50\n",
            "1/1 [==============================] - 0s 2ms/step - loss: 0.1817 - accuracy: 0.1667\n",
            "Epoch 24/50\n",
            "1/1 [==============================] - 0s 2ms/step - loss: 0.1494 - accuracy: 0.1667\n",
            "Epoch 25/50\n",
            "1/1 [==============================] - 0s 3ms/step - loss: 0.1238 - accuracy: 0.1667\n",
            "Epoch 26/50\n",
            "1/1 [==============================] - 0s 3ms/step - loss: 0.1036 - accuracy: 0.1667\n",
            "Epoch 27/50\n",
            "1/1 [==============================] - 0s 3ms/step - loss: 0.0876 - accuracy: 0.1667\n",
            "Epoch 28/50\n",
            "1/1 [==============================] - 0s 2ms/step - loss: 0.0749 - accuracy: 0.1667\n",
            "Epoch 29/50\n",
            "1/1 [==============================] - 0s 2ms/step - loss: 0.0647 - accuracy: 0.1667\n",
            "Epoch 30/50\n",
            "1/1 [==============================] - 0s 3ms/step - loss: 0.0566 - accuracy: 0.1667\n",
            "Epoch 31/50\n",
            "1/1 [==============================] - 0s 2ms/step - loss: 0.0501 - accuracy: 0.1667\n",
            "Epoch 32/50\n",
            "1/1 [==============================] - 0s 2ms/step - loss: 0.0449 - accuracy: 0.1667\n",
            "Epoch 33/50\n",
            "1/1 [==============================] - 0s 3ms/step - loss: 0.0407 - accuracy: 0.1667\n",
            "Epoch 34/50\n",
            "1/1 [==============================] - 0s 2ms/step - loss: 0.0372 - accuracy: 0.1667\n",
            "Epoch 35/50\n",
            "1/1 [==============================] - 0s 3ms/step - loss: 0.0344 - accuracy: 0.1667\n",
            "Epoch 36/50\n",
            "1/1 [==============================] - 0s 2ms/step - loss: 0.0321 - accuracy: 0.1667\n",
            "Epoch 37/50\n",
            "1/1 [==============================] - 0s 3ms/step - loss: 0.0302 - accuracy: 0.1667\n",
            "Epoch 38/50\n",
            "1/1 [==============================] - 0s 2ms/step - loss: 0.0286 - accuracy: 0.1667\n",
            "Epoch 39/50\n",
            "1/1 [==============================] - 0s 5ms/step - loss: 0.0272 - accuracy: 0.1667\n",
            "Epoch 40/50\n",
            "1/1 [==============================] - 0s 2ms/step - loss: 0.0260 - accuracy: 0.1667\n",
            "Epoch 41/50\n",
            "1/1 [==============================] - 0s 4ms/step - loss: 0.0250 - accuracy: 0.1667\n",
            "Epoch 42/50\n",
            "1/1 [==============================] - 0s 2ms/step - loss: 0.0241 - accuracy: 0.1667\n",
            "Epoch 43/50\n",
            "1/1 [==============================] - 0s 3ms/step - loss: 0.0233 - accuracy: 0.1667\n",
            "Epoch 44/50\n",
            "1/1 [==============================] - 0s 2ms/step - loss: 0.0226 - accuracy: 0.1667\n",
            "Epoch 45/50\n",
            "1/1 [==============================] - 0s 3ms/step - loss: 0.0220 - accuracy: 0.1667\n",
            "Epoch 46/50\n",
            "1/1 [==============================] - 0s 3ms/step - loss: 0.0214 - accuracy: 0.1667\n",
            "Epoch 47/50\n",
            "1/1 [==============================] - 0s 5ms/step - loss: 0.0208 - accuracy: 0.1667\n",
            "Epoch 48/50\n",
            "1/1 [==============================] - 0s 5ms/step - loss: 0.0203 - accuracy: 0.1667\n",
            "Epoch 49/50\n",
            "1/1 [==============================] - 0s 2ms/step - loss: 0.0198 - accuracy: 0.1667\n",
            "Epoch 50/50\n",
            "1/1 [==============================] - 0s 2ms/step - loss: 0.0194 - accuracy: 0.1667\n"
          ],
          "name": "stdout"
        }
      ]
    },
    {
      "cell_type": "code",
      "metadata": {
        "id": "z4LJaFtygsIR",
        "outputId": "742b39dd-d250-45ea-84b5-826740249056",
        "colab": {
          "base_uri": "https://localhost:8080/"
        }
      },
      "source": [
        "print(model.predict([-5, 10.0, 15]))\n"
      ],
      "execution_count": 5,
      "outputs": [
        {
          "output_type": "stream",
          "text": [
            "[[-14.448584]\n",
            " [ 31.348085]\n",
            " [ 46.613644]]\n"
          ],
          "name": "stdout"
        }
      ]
    },
    {
      "cell_type": "code",
      "metadata": {
        "id": "5_vlFqrigsIU",
        "outputId": "47ceee80-2ef7-4771-d86a-12fa39602376",
        "colab": {
          "base_uri": "https://localhost:8080/",
          "height": 281
        }
      },
      "source": [
        "# plot loss during training\n",
        "pyplot.subplot(211)\n",
        "pyplot.title('Loss')\n",
        "pyplot.plot(history.history['loss'], label='train')\n",
        "pyplot.legend()\n",
        "\n",
        "# plot accuracy during training\n",
        "pyplot.subplot(212)\n",
        "pyplot.title('Accuracy')\n",
        "pyplot.plot(history.history['accuracy'], label='train')\n",
        "pyplot.legend()\n",
        "pyplot.show()"
      ],
      "execution_count": 6,
      "outputs": [
        {
          "output_type": "display_data",
          "data": {
            "image/png": "[encoded data removed]",
            "text/plain": [
              "<Figure size 432x288 with 2 Axes>"
            ]
          },
          "metadata": {
            "tags": [],
            "needs_background": "light"
          }
        }
      ]
    },
    {
      "cell_type": "code",
      "metadata": {
        "id": "bawTYvpIgvwl"
      },
      "source": [
        ""
      ],
      "execution_count": 6,
      "outputs": []
    }
  ]
}